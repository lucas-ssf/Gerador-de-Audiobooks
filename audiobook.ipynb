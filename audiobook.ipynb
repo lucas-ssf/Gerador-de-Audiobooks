{
  "cells": [
    {
      "cell_type": "markdown",
      "source": [
        "\n",
        "Montar o drive\n",
        "\n"
      ],
      "metadata": {
        "id": "sSRr1B5f-pDF"
      }
    },
    {
      "cell_type": "code",
      "execution_count": null,
      "metadata": {
        "colab": {
          "base_uri": "https://localhost:8080/"
        },
        "id": "W7JeEXeCocp_",
        "outputId": "978dafe9-7fb0-4324-b89c-dcb145fc63bd"
      },
      "outputs": [
        {
          "name": "stdout",
          "output_type": "stream",
          "text": [
            "Mounted at /content/drive\n"
          ]
        }
      ],
      "source": [
        "from google.colab import drive\n",
        "drive.mount('/content/drive')"
      ]
    },
    {
      "cell_type": "markdown",
      "source": [
        "Bibliotecas necessárias"
      ],
      "metadata": {
        "id": "rKNGUo3d-uAa"
      }
    },
    {
      "cell_type": "code",
      "execution_count": null,
      "metadata": {
        "id": "dWNS8sc5ZFjb"
      },
      "outputs": [],
      "source": [
        "#!pip install edge-tts\n",
        "#!pip install PyPDF2\n",
        "#!pip install pydub\n",
        "#!pip install moviepy"
      ]
    },
    {
      "cell_type": "code",
      "execution_count": null,
      "metadata": {
        "colab": {
          "base_uri": "https://localhost:8080/"
        },
        "collapsed": true,
        "id": "VVcFEuALdHnG",
        "outputId": "13791c36-5f0c-4bce-88d5-693ba053ed05"
      },
      "outputs": [
        {
          "data": {
            "text/plain": [
              "[{'Name': 'Microsoft Server Speech Text to Speech Voice (pt-BR, ThalitaMultilingualNeural)',\n",
              "  'ShortName': 'pt-BR-ThalitaMultilingualNeural',\n",
              "  'Gender': 'Female',\n",
              "  'Locale': 'pt-BR',\n",
              "  'SuggestedCodec': 'audio-24khz-48kbitrate-mono-mp3',\n",
              "  'FriendlyName': 'Microsoft ThalitaMultilingual Online (Natural) - Portuguese (Brazil)',\n",
              "  'Status': 'GA',\n",
              "  'VoiceTag': {'ContentCategories': ['General'],\n",
              "   'VoicePersonalities': ['Friendly', 'Positive']},\n",
              "  'Language': 'pt'},\n",
              " {'Name': 'Microsoft Server Speech Text to Speech Voice (pt-BR, AntonioNeural)',\n",
              "  'ShortName': 'pt-BR-AntonioNeural',\n",
              "  'Gender': 'Male',\n",
              "  'Locale': 'pt-BR',\n",
              "  'SuggestedCodec': 'audio-24khz-48kbitrate-mono-mp3',\n",
              "  'FriendlyName': 'Microsoft Antonio Online (Natural) - Portuguese (Brazil)',\n",
              "  'Status': 'GA',\n",
              "  'VoiceTag': {'ContentCategories': ['General'],\n",
              "   'VoicePersonalities': ['Friendly', 'Positive']},\n",
              "  'Language': 'pt'},\n",
              " {'Name': 'Microsoft Server Speech Text to Speech Voice (pt-BR, FranciscaNeural)',\n",
              "  'ShortName': 'pt-BR-FranciscaNeural',\n",
              "  'Gender': 'Female',\n",
              "  'Locale': 'pt-BR',\n",
              "  'SuggestedCodec': 'audio-24khz-48kbitrate-mono-mp3',\n",
              "  'FriendlyName': 'Microsoft Francisca Online (Natural) - Portuguese (Brazil)',\n",
              "  'Status': 'GA',\n",
              "  'VoiceTag': {'ContentCategories': ['General'],\n",
              "   'VoicePersonalities': ['Friendly', 'Positive']},\n",
              "  'Language': 'pt'},\n",
              " {'Name': 'Microsoft Server Speech Text to Speech Voice (pt-PT, DuarteNeural)',\n",
              "  'ShortName': 'pt-PT-DuarteNeural',\n",
              "  'Gender': 'Male',\n",
              "  'Locale': 'pt-PT',\n",
              "  'SuggestedCodec': 'audio-24khz-48kbitrate-mono-mp3',\n",
              "  'FriendlyName': 'Microsoft Duarte Online (Natural) - Portuguese (Portugal)',\n",
              "  'Status': 'GA',\n",
              "  'VoiceTag': {'ContentCategories': ['General'],\n",
              "   'VoicePersonalities': ['Friendly', 'Positive']},\n",
              "  'Language': 'pt'},\n",
              " {'Name': 'Microsoft Server Speech Text to Speech Voice (pt-PT, RaquelNeural)',\n",
              "  'ShortName': 'pt-PT-RaquelNeural',\n",
              "  'Gender': 'Female',\n",
              "  'Locale': 'pt-PT',\n",
              "  'SuggestedCodec': 'audio-24khz-48kbitrate-mono-mp3',\n",
              "  'FriendlyName': 'Microsoft Raquel Online (Natural) - Portuguese (Portugal)',\n",
              "  'Status': 'GA',\n",
              "  'VoiceTag': {'ContentCategories': ['General'],\n",
              "   'VoicePersonalities': ['Friendly', 'Positive']},\n",
              "  'Language': 'pt'}]"
            ]
          },
          "execution_count": 33,
          "metadata": {},
          "output_type": "execute_result"
        }
      ],
      "source": [
        "from edge_tts import VoicesManager\n",
        "\n",
        "voices = await VoicesManager.create()\n",
        "# Lista de vozes em portugues\n",
        "(voices.find(Language=\"pt\"))#[0]['ShortName']"
      ]
    },
    {
      "cell_type": "markdown",
      "source": [
        "### Formatação + PDF para texto"
      ],
      "metadata": {
        "id": "np9ktCVu_HGN"
      }
    },
    {
      "cell_type": "code",
      "execution_count": 1,
      "metadata": {
        "id": "OdP2Fk2Wjtvw"
      },
      "outputs": [],
      "source": [
        "def formatar_texto(texto): # cada arquivo pdf deve ser analisado para uma formatacao especifica\n",
        "  linhas_texto = texto.splitlines()\n",
        "  novo_texto = \"\"\n",
        "  for i,linha in enumerate(linhas_texto):\n",
        "    if i > 0:\n",
        "      if linhas_texto[i-1][-1] == '.': #se o final da ultima linha foi um ponto, esta linha iniciara com uma nova linha\n",
        "        linha = '\\n'+linha\n",
        "      novo_texto += linha\n",
        "  return (novo_texto)[len(\"MeMórias General Vieira da rosa\"):]\n",
        "\n",
        "def pdf_para_texto(arquivo, pagina_inicial, qtd_paginas):\n",
        "  from PyPDF2 import PdfReader\n",
        "  reader = PdfReader(arquivo)\n",
        "\n",
        "  texto = \"\"\n",
        "  for i in range(qtd_paginas):\n",
        "    page = reader.pages[pagina_inicial + i]\n",
        "    texto_provisorio = page.extract_text()\n",
        "    texto += formatar_texto(texto_provisorio)\n",
        "\n",
        "  return texto"
      ]
    },
    {
      "cell_type": "markdown",
      "source": [
        "### PDF para voz"
      ],
      "metadata": {
        "id": "cvWIC_NH_OKl"
      }
    },
    {
      "cell_type": "code",
      "execution_count": 2,
      "metadata": {
        "id": "wErAD874r4OG"
      },
      "outputs": [],
      "source": [
        "def livro_para_fala(arquivo, pagina_inicial, qtd_paginas):\n",
        "  import edge_tts\n",
        "  from edge_tts import VoicesManager\n",
        "\n",
        "  texto = pdf_para_texto(arquivo, pagina_inicial, qtd_paginas)\n",
        "  communicate = edge_tts.Communicate(texto, \"pt-BR-AntonioNeural\")\n",
        "\n",
        "  return communicate"
      ]
    },
    {
      "cell_type": "markdown",
      "source": [
        "Seleção do livro + converção para mp3"
      ],
      "metadata": {
        "id": "vbQdsMtH_SPF"
      }
    },
    {
      "cell_type": "code",
      "source": [
        "arquivo = \"/content/drive/MyDrive/Memorias_Vieira_da_Rosa/memorias-vieira-da-rosa.pdf\"\n",
        "pagina = 175\n",
        "pagina_pdf = pagina - 2\n",
        "qtd = 10\n",
        "\n",
        "\n",
        "fala = livro_para_fala(arquivo, pagina_pdf, qtd)\n",
        "\n",
        "indice = len(arquivo) - arquivo[::-1].find('/')\n",
        "diretorio = arquivo[:indice]\n",
        "nome = f\"{pagina}_{pagina+qtd}\"\n",
        "\n",
        "await fala.save(diretorio + nome + \".mp3\")\n",
        "print(\"concluido\")"
      ],
      "metadata": {
        "id": "T5KayyU4DKC9"
      },
      "execution_count": null,
      "outputs": []
    },
    {
      "cell_type": "markdown",
      "source": [
        "### MP3 para MP4 c/ imagem"
      ],
      "metadata": {
        "id": "4YJuTrki_Z4z"
      }
    },
    {
      "cell_type": "code",
      "source": [
        "# link do código:\n",
        "# https://github.com/horue/Kurippo-MP3-to-MP4-Converter/blob/main/main.py\n",
        "\n",
        "import moviepy.editor as mp\n",
        "import os\n",
        "\n",
        "def converter(audioPath, imagePath):\n",
        "    nome = str(os.path.basename(audioPath))\n",
        "    name = os.path.splitext(nome)[0]\n",
        "\n",
        "    outputPath = os.path.join(os.path.expanduser(\"~\"), f\"/content/{name}.mp4\")\n",
        "\n",
        "    audio = mp.AudioFileClip(audioPath, fps=44100)\n",
        "    video = mp.VideoFileClip(imagePath)\n",
        "\n",
        "\n",
        "    video_duration = audio.duration\n",
        "\n",
        "\n",
        "    final_video = video.set_audio(audio).set_duration(video_duration)\n",
        "\n",
        "\n",
        "    final_video.write_videofile(outputPath, fps=60)\n",
        "\n",
        "\n",
        "\n",
        "audioPath = \"./audio.mp3\"\n",
        "imagePath = \"./image.jpg\"\n",
        "converter(audioPath, imagePath)"
      ],
      "metadata": {
        "id": "XTMFyM1X8vHA"
      },
      "execution_count": null,
      "outputs": []
    }
  ],
  "metadata": {
    "colab": {
      "provenance": []
    },
    "kernelspec": {
      "display_name": "Python 3",
      "name": "python3"
    },
    "language_info": {
      "name": "python"
    }
  },
  "nbformat": 4,
  "nbformat_minor": 0
}
